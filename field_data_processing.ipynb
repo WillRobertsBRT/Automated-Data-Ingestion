{
 "cells": [
  {
   "cell_type": "code",
   "execution_count": 27,
   "metadata": {
    "collapsed": true,
    "jupyter": {
     "outputs_hidden": true
    }
   },
   "outputs": [
    {
     "ename": "FileNotFoundError",
     "evalue": "[Errno 2] No such file or directory: '/media/FS_EXPORTS/beast_raid/chris.padwick/dcmdata'",
     "output_type": "error",
     "traceback": [
      "\u001b[0;31m---------------------------------------------------------------------------\u001b[0m",
      "\u001b[0;31mFileNotFoundError\u001b[0m                         Traceback (most recent call last)",
      "\u001b[0;32m<ipython-input-27-7e1790960b2e>\u001b[0m in \u001b[0;36m<module>\u001b[0;34m\u001b[0m\n\u001b[1;32m     17\u001b[0m \u001b[0;34m\u001b[0m\u001b[0m\n\u001b[1;32m     18\u001b[0m \u001b[0;31m# Upload to AWS\u001b[0m\u001b[0;34m\u001b[0m\u001b[0;34m\u001b[0m\u001b[0;34m\u001b[0m\u001b[0m\n\u001b[0;32m---> 19\u001b[0;31m \u001b[0mos\u001b[0m\u001b[0;34m.\u001b[0m\u001b[0mchdir\u001b[0m\u001b[0;34m(\u001b[0m\u001b[0;34m'/media/FS_EXPORTS/beast_raid/chris.padwick/dcmdata'\u001b[0m\u001b[0;34m)\u001b[0m\u001b[0;34m\u001b[0m\u001b[0;34m\u001b[0m\u001b[0m\n\u001b[0m\u001b[1;32m     20\u001b[0m \u001b[0mos\u001b[0m\u001b[0;34m.\u001b[0m\u001b[0msystem\u001b[0m\u001b[0;34m(\u001b[0m\u001b[0;34m'aws s3 sync '\u001b[0m\u001b[0;34m+\u001b[0m \u001b[0mfile_name\u001b[0m\u001b[0;34m+\u001b[0m\u001b[0;34m' s3://brt-dcm-data/data-flatbuffer/'\u001b[0m\u001b[0;34m+\u001b[0m\u001b[0mdcm_name\u001b[0m\u001b[0;34m+\u001b[0m\u001b[0;34m'/'\u001b[0m\u001b[0;34m+\u001b[0m\u001b[0mfile_name\u001b[0m\u001b[0;34m)\u001b[0m\u001b[0;34m\u001b[0m\u001b[0;34m\u001b[0m\u001b[0m\n\u001b[1;32m     21\u001b[0m \u001b[0;34m\u001b[0m\u001b[0m\n",
      "\u001b[0;31mFileNotFoundError\u001b[0m: [Errno 2] No such file or directory: '/media/FS_EXPORTS/beast_raid/chris.padwick/dcmdata'"
     ]
    }
   ],
   "source": [
    "import os\n",
    "from datetime import datetime\n",
    "\n",
    "dcm_name = 'manatee' # Could be input arguments starting script\n",
    "ssd_name = 'ssd114' \n",
    "todays_date = str(datetime.now())\n",
    "date_string = todays_date[5:7] + todays_date[8:10]+ todays_date[0:4] \n",
    "file_name = dcm_name.lower() + '-' + ssd_name.lower() + '-'+date_string # e.g. manatee-ssd114-05142020\n",
    "\n",
    "# Copy Into beast_raid\n",
    "drive_path = '/media/chris.padwick/'+ ssd_name.upper() + '/shasta/vpu0-0a/'\n",
    "copy_path = '/media/FS_EXPORTS/beast_raid/chris.padwick/data/dcmdata/' + file_name\n",
    "os.system('rsync -avh ' + drive_path + ' ' + copy_path)\n",
    "\n",
    "# test if exit status code is 0\n",
    "# test if files have been copied sucessfully\n",
    "\n",
    "# Upload to AWS\n",
    "os.chdir('/media/FS_EXPORTS/beast_raid/chris.padwick/dcmdata')\n",
    "os.system('aws s3 sync '+ file_name+' s3://brt-dcm-data/data-flatbuffer/'+dcm_name+'/'+file_name)\n",
    "\n",
    "# test if exit status code is 0\n",
    "# test if files uploaded successfully\n",
    "\n",
    "# Ingest Logs\n",
    "os.chdir('~/code/shasta/brt/vpu/data_processing/image') # Navigate to appropriate directory\n",
    "\n",
    "#Set ingest_logs.py variables\n",
    "\n",
    "bucket = 'brt-dcm-data'\n",
    "prefix = 'brt-dcm-data/data-flatbuffer/dcm-'+dcm_name+'/'\n",
    "robot_name = 4 # Could be set from dcm_name variable above\n",
    "camera_types = '0012'\n",
    "outcsv = file_name + '.csv'\n",
    "\n",
    "os.system('python ingest_logs.py --bucket '+bucket+' --prefix ' + prefix +' --robot ' + robot_name + ' --camera_types '+ camera_types + ' --outcsv ' + outcsv)\n",
    "\n",
    "# Test if exit sttatus code is 0\n",
    "\n",
    "os.system('echo Script Completed Successfully at ' + str(datetime.now()))"
   ]
  },
  {
   "cell_type": "code",
   "execution_count": 25,
   "metadata": {},
   "outputs": [
    {
     "name": "stdout",
     "output_type": "stream",
     "text": [
      "rsync -avh /media/chris.padwick/SSD114/shasta/vpu0-0a/ /media/FS_EXPORTS/beast_raid/chris.padwick/data/dcmdata/manatee-ssd114-05272020\n",
      "manatee-ssd114-05272020\n"
     ]
    }
   ],
   "source": [
    "import os\n",
    "from datetime import datetime\n",
    "\n",
    "dcm_name = 'manatee' # Could be input arguments starting script\n",
    "ssd_name = 'ssd114' \n",
    "\n",
    "todays_date = str(datetime.now())\n",
    "date_string = todays_date[5:7] + todays_date[8:10]+ todays_date[0:4] \n",
    "file_name = dcm_name.lower() + '-' + ssd_name.lower() + '-'+date_string # e.g. manatee-ssd114-05142020\n",
    "\n",
    "print(file_name)\n",
    "\n",
    "# Copy Into beast_raid\n",
    "drive_path = '/media/chris.padwick/'+ ssd_name.upper() + '/shasta/vpu0-0a/'\n",
    "copy_path = '/media/FS_EXPORTS/beast_raid/chris.padwick/data/dcmdata/' + file_name\n",
    "print('rsync -avh ' + drive_path + ' ' + copy_path)\n",
    "\n"
   ]
  },
  {
   "cell_type": "code",
   "execution_count": 28,
   "metadata": {},
   "outputs": [
    {
     "name": "stdout",
     "output_type": "stream",
     "text": [
      "aws s3 sync manatee-ssd114-05272020 s3://brt-dcm-data/data-flatbuffer/manatee/manatee-ssd114-05272020\n"
     ]
    }
   ],
   "source": [
    "# Upload to AWS\n",
    "#os.chdir('/media/FS_EXPORTS/beast_raid/chris.padwick/dcmdata')\n",
    "print('aws s3 sync '+ file_name+' s3://brt-dcm-data/data-flatbuffer/'+dcm_name+'/'+file_name)\n",
    "\n",
    "\n"
   ]
  },
  {
   "cell_type": "code",
   "execution_count": 29,
   "metadata": {},
   "outputs": [
    {
     "name": "stdout",
     "output_type": "stream",
     "text": [
      "python ingest_logs.py --bucket brt-dcm-data --prefix brt-dcm-data/data-flatbuffer/dcm-manatee/ --robot 4 --camera_types 0012 --outcsv manatee-ssd114-05272020.csv\n"
     ]
    }
   ],
   "source": [
    "# Ingest Logs\n",
    "# os.chdir('~/code/shasta/brt/vpu/data_processing/image') # Navigate to directory\n",
    "\n",
    "#Set ingest_logs.py variables\n",
    "\n",
    "bucket = 'brt-dcm-data'\n",
    "prefix = 'brt-dcm-data/data-flatbuffer/dcm-'+dcm_name+'/'\n",
    "robot_name = '4'\n",
    "camera_types = '0012'\n",
    "outcsv = file_name + '.csv'\n",
    "\n",
    "print('python ingest_logs.py --bucket '+bucket+' --prefix ' + prefix +' --robot ' + robot_name + ' --camera_types '+ camera_types + ' --outcsv ' + outcsv)\n",
    "\n",
    "# Test if exit code is 0\n",
    "\n",
    "#os.system('echo Script Completed Successfully')"
   ]
  },
  {
   "cell_type": "code",
   "execution_count": null,
   "metadata": {},
   "outputs": [],
   "source": []
  }
 ],
 "metadata": {
  "kernelspec": {
   "display_name": "Python 3",
   "language": "python",
   "name": "python3"
  },
  "language_info": {
   "codemirror_mode": {
    "name": "ipython",
    "version": 3
   },
   "file_extension": ".py",
   "mimetype": "text/x-python",
   "name": "python",
   "nbconvert_exporter": "python",
   "pygments_lexer": "ipython3",
   "version": "3.6.9"
  }
 },
 "nbformat": 4,
 "nbformat_minor": 4
}
